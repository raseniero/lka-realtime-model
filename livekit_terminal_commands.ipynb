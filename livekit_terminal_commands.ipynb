{
 "cells": [
  {
   "cell_type": "markdown",
   "id": "20f9c20a",
   "metadata": {},
   "source": [
    "# Command to manage Inbound Trunks"
   ]
  },
  {
   "cell_type": "code",
   "execution_count": 2,
   "id": "9207e5a7",
   "metadata": {},
   "outputs": [
    {
     "name": "stdout",
     "output_type": "stream",
     "text": [
      "\u001b]11;?\u001b\\\u001b[6nUsing default project [\u001b[36mmkia\u001b[0m]\n",
      "twirp error invalid_argument: Conflicting inbound SIP Trunks: \"<new>\" and \"ST_m5BaQzYpwjj4\", using the same number(s) [\"+19284920664\"] without AllowedNumbers set\n"
     ]
    }
   ],
   "source": [
    "# Create an inbound trunk\n",
    "!lk sip inbound create inbound-trunk.json"
   ]
  },
  {
   "cell_type": "code",
   "execution_count": null,
   "id": "9ab32982",
   "metadata": {},
   "outputs": [],
   "source": [
    "# Update the inbound trunk\n",
    "!lk sip inbound update inbound-trunk.json"
   ]
  },
  {
   "cell_type": "code",
   "execution_count": 1,
   "id": "76841b98",
   "metadata": {},
   "outputs": [
    {
     "name": "stdout",
     "output_type": "stream",
     "text": [
      "\u001b]11;?\u001b\\\u001b[6nUsing default project [\u001b[36mmkia\u001b[0m]\n",
      "\u001b[37m┌\u001b[0m\u001b[37m─────────────────\u001b[0m\u001b[37m┬\u001b[0m\u001b[37m────────────────────\u001b[0m\u001b[37m┬\u001b[0m\u001b[37m──────────────\u001b[0m\u001b[37m┬\u001b[0m\u001b[37m──────────────────\u001b[0m\u001b[37m┬\u001b[0m\u001b[37m────────────────\u001b[0m\u001b[37m┬\u001b[0m\u001b[37m────────────────\u001b[0m\u001b[37m┬\u001b[0m\u001b[37m────────────\u001b[0m\u001b[37m┬\u001b[0m\u001b[37m─────────\u001b[0m\u001b[37m┬\u001b[0m\u001b[37m──────────\u001b[0m\u001b[37m┐\u001b[0m\n",
      "\u001b[37m│\u001b[0m \u001b[1;37mSipTrunkID\u001b[0m      \u001b[37m│\u001b[0m \u001b[1;37mName\u001b[0m               \u001b[37m│\u001b[0m \u001b[1;37mNumbers\u001b[0m      \u001b[37m│\u001b[0m \u001b[1;37mAllowedAddresses\u001b[0m \u001b[37m│\u001b[0m \u001b[1;37mAllowedNumbers\u001b[0m \u001b[37m│\u001b[0m \u001b[1;37mAuthentication\u001b[0m \u001b[37m│\u001b[0m \u001b[1;37mEncryption\u001b[0m \u001b[37m│\u001b[0m \u001b[1;37mHeaders\u001b[0m \u001b[37m│\u001b[0m \u001b[1;37mMetadata\u001b[0m \u001b[37m│\u001b[0m\n",
      "\u001b[37m├\u001b[0m\u001b[37m─────────────────\u001b[0m\u001b[37m┼\u001b[0m\u001b[37m────────────────────\u001b[0m\u001b[37m┼\u001b[0m\u001b[37m──────────────\u001b[0m\u001b[37m┼\u001b[0m\u001b[37m──────────────────\u001b[0m\u001b[37m┼\u001b[0m\u001b[37m────────────────\u001b[0m\u001b[37m┼\u001b[0m\u001b[37m────────────────\u001b[0m\u001b[37m┼\u001b[0m\u001b[37m────────────\u001b[0m\u001b[37m┼\u001b[0m\u001b[37m─────────\u001b[0m\u001b[37m┼\u001b[0m\u001b[37m──────────\u001b[0m\u001b[37m┤\u001b[0m\n",
      "\u001b[37m│\u001b[0m \u001b[37mST_m5BaQzYpwjj4\u001b[0m \u001b[37m│\u001b[0m \u001b[37mMKIA inbound trunk\u001b[0m \u001b[37m│\u001b[0m \u001b[37m+19284920664\u001b[0m \u001b[37m│\u001b[0m \u001b[37m\u001b[0m                 \u001b[37m│\u001b[0m \u001b[37m\u001b[0m               \u001b[37m│\u001b[0m \u001b[37m\u001b[0m               \u001b[37m│\u001b[0m \u001b[37mDISABLE\u001b[0m    \u001b[37m│\u001b[0m \u001b[37m\u001b[0m        \u001b[37m│\u001b[0m \u001b[37m\u001b[0m         \u001b[37m│\u001b[0m\n",
      "\u001b[37m└\u001b[0m\u001b[37m─────────────────\u001b[0m\u001b[37m┴\u001b[0m\u001b[37m────────────────────\u001b[0m\u001b[37m┴\u001b[0m\u001b[37m──────────────\u001b[0m\u001b[37m┴\u001b[0m\u001b[37m──────────────────\u001b[0m\u001b[37m┴\u001b[0m\u001b[37m────────────────\u001b[0m\u001b[37m┴\u001b[0m\u001b[37m────────────────\u001b[0m\u001b[37m┴\u001b[0m\u001b[37m────────────\u001b[0m\u001b[37m┴\u001b[0m\u001b[37m─────────\u001b[0m\u001b[37m┴\u001b[0m\u001b[37m──────────\u001b[0m\u001b[37m┘\u001b[0m\n"
     ]
    }
   ],
   "source": [
    "# List all inbound trunks\n",
    "!lk sip inbound list"
   ]
  },
  {
   "cell_type": "code",
   "execution_count": 4,
   "id": "070f9191",
   "metadata": {},
   "outputs": [
    {
     "name": "stdout",
     "output_type": "stream",
     "text": [
      "\u001b]11;?\u001b\\\u001b[6nUsing default project [\u001b[36mmkia\u001b[0m]\n",
      "SIPTrunkID: ST_UxAaBKSCcHHe\n"
     ]
    }
   ],
   "source": [
    "# Delete the inbound trunk\n",
    "!lk sip inbound delete ST_UxAaBKSCcHHe"
   ]
  },
  {
   "cell_type": "markdown",
   "id": "6f631214",
   "metadata": {},
   "source": [
    "# Manage Outbound"
   ]
  },
  {
   "cell_type": "code",
   "execution_count": null,
   "id": "19d6857b",
   "metadata": {},
   "outputs": [],
   "source": [
    "# Create an outbound trunk\n",
    "!lk sip outbound create outbound-trunk.json"
   ]
  },
  {
   "cell_type": "code",
   "execution_count": 20,
   "id": "813799fa",
   "metadata": {},
   "outputs": [
    {
     "name": "stdout",
     "output_type": "stream",
     "text": [
      "\u001b]11;?\u001b\\\u001b[6nUsing default project [\u001b[36mmkia\u001b[0m]\n",
      "\u001b[37m┌\u001b[0m\u001b[37m─────────────────\u001b[0m\u001b[37m┬\u001b[0m\u001b[37m─────────────────────\u001b[0m\u001b[37m┬\u001b[0m\u001b[37m──────────────────────\u001b[0m\u001b[37m┬\u001b[0m\u001b[37m───────────\u001b[0m\u001b[37m┬\u001b[0m\u001b[37m──────────────\u001b[0m\u001b[37m┬\u001b[0m\u001b[37m────────────────\u001b[0m\u001b[37m┬\u001b[0m\u001b[37m────────────\u001b[0m\u001b[37m┬\u001b[0m\u001b[37m─────────\u001b[0m\u001b[37m┬\u001b[0m\u001b[37m──────────\u001b[0m\u001b[37m┐\u001b[0m\n",
      "\u001b[37m│\u001b[0m \u001b[1;37mSipTrunkID\u001b[0m      \u001b[37m│\u001b[0m \u001b[1;37mName\u001b[0m                \u001b[37m│\u001b[0m \u001b[1;37mAddress\u001b[0m              \u001b[37m│\u001b[0m \u001b[1;37mTransport\u001b[0m \u001b[37m│\u001b[0m \u001b[1;37mNumbers\u001b[0m      \u001b[37m│\u001b[0m \u001b[1;37mAuthentication\u001b[0m \u001b[37m│\u001b[0m \u001b[1;37mEncryption\u001b[0m \u001b[37m│\u001b[0m \u001b[1;37mHeaders\u001b[0m \u001b[37m│\u001b[0m \u001b[1;37mMetadata\u001b[0m \u001b[37m│\u001b[0m\n",
      "\u001b[37m├\u001b[0m\u001b[37m─────────────────\u001b[0m\u001b[37m┼\u001b[0m\u001b[37m─────────────────────\u001b[0m\u001b[37m┼\u001b[0m\u001b[37m──────────────────────\u001b[0m\u001b[37m┼\u001b[0m\u001b[37m───────────\u001b[0m\u001b[37m┼\u001b[0m\u001b[37m──────────────\u001b[0m\u001b[37m┼\u001b[0m\u001b[37m────────────────\u001b[0m\u001b[37m┼\u001b[0m\u001b[37m────────────\u001b[0m\u001b[37m┼\u001b[0m\u001b[37m─────────\u001b[0m\u001b[37m┼\u001b[0m\u001b[37m──────────\u001b[0m\u001b[37m┤\u001b[0m\n",
      "\u001b[37m│\u001b[0m \u001b[37mST_UsdXMNmBr3AL\u001b[0m \u001b[37m│\u001b[0m \u001b[37mMKIA outbound trunk\u001b[0m \u001b[37m│\u001b[0m \u001b[37mmkia.pstn.twilio.com\u001b[0m \u001b[37m│\u001b[0m \u001b[37mAUTO\u001b[0m      \u001b[37m│\u001b[0m \u001b[37m+19284920664\u001b[0m \u001b[37m│\u001b[0m \u001b[37mramasen / ****\u001b[0m \u001b[37m│\u001b[0m \u001b[37mDISABLE\u001b[0m    \u001b[37m│\u001b[0m \u001b[37m\u001b[0m        \u001b[37m│\u001b[0m \u001b[37m\u001b[0m         \u001b[37m│\u001b[0m\n",
      "\u001b[37m└\u001b[0m\u001b[37m─────────────────\u001b[0m\u001b[37m┴\u001b[0m\u001b[37m─────────────────────\u001b[0m\u001b[37m┴\u001b[0m\u001b[37m──────────────────────\u001b[0m\u001b[37m┴\u001b[0m\u001b[37m───────────\u001b[0m\u001b[37m┴\u001b[0m\u001b[37m──────────────\u001b[0m\u001b[37m┴\u001b[0m\u001b[37m────────────────\u001b[0m\u001b[37m┴\u001b[0m\u001b[37m────────────\u001b[0m\u001b[37m┴\u001b[0m\u001b[37m─────────\u001b[0m\u001b[37m┴\u001b[0m\u001b[37m──────────\u001b[0m\u001b[37m┘\u001b[0m\n"
     ]
    }
   ],
   "source": [
    "# List all outbound trunks\n",
    "!lk sip outbound list"
   ]
  },
  {
   "cell_type": "code",
   "execution_count": null,
   "id": "c974f7c5",
   "metadata": {},
   "outputs": [],
   "source": [
    "# Delete an outbound trunk\n",
    "!lk sip outbound delete ST_xzE3AAwZgU6t"
   ]
  },
  {
   "cell_type": "code",
   "execution_count": 19,
   "id": "96276d51",
   "metadata": {},
   "outputs": [
    {
     "name": "stdout",
     "output_type": "stream",
     "text": [
      "\u001b]11;?\u001b\\\u001b[6nUsing default project [\u001b[36mmkia\u001b[0m]\n",
      "SIPCallID: SCL_hLtM9DpLgCPQ\n",
      "ParticipantID: PA_qDkCUaYQuwjs\n",
      "ParticipantIdentity: sip-test\n",
      "RoomName: my-sip-room\n"
     ]
    }
   ],
   "source": [
    "# Make an Outbound Call\n",
    "!lk sip participant create sip-participant.json"
   ]
  },
  {
   "cell_type": "markdown",
   "id": "abf54e88",
   "metadata": {},
   "source": [
    "# Dispath Rule Management"
   ]
  },
  {
   "cell_type": "code",
   "execution_count": 14,
   "id": "4f9ee619",
   "metadata": {},
   "outputs": [
    {
     "name": "stdout",
     "output_type": "stream",
     "text": [
      "\u001b]11;?\u001b\\\u001b[6nUsing default project [\u001b[36mmkia\u001b[0m]\n",
      "SIPDispatchRuleID: SDR_oaSgs8kNPgW4\n"
     ]
    }
   ],
   "source": [
    "# Create a Dispatch Rule\n",
    "!lk sip dispatch create dispatch-rule.json"
   ]
  },
  {
   "cell_type": "code",
   "execution_count": 15,
   "id": "3e3ad95f",
   "metadata": {},
   "outputs": [
    {
     "name": "stdout",
     "output_type": "stream",
     "text": [
      "\u001b]11;?\u001b\\\u001b[6nUsing default project [\u001b[36mmkia\u001b[0m]\n",
      "\u001b[37m┌\u001b[0m\u001b[37m───────────────────\u001b[0m\u001b[37m┬\u001b[0m\u001b[37m────────────────────\u001b[0m\u001b[37m┬\u001b[0m\u001b[37m─────────────────\u001b[0m\u001b[37m┬\u001b[0m\u001b[37m─────────────────────\u001b[0m\u001b[37m┬\u001b[0m\u001b[37m─────────────────────────\u001b[0m\u001b[37m┬\u001b[0m\u001b[37m─────\u001b[0m\u001b[37m┬\u001b[0m\u001b[37m────────────\u001b[0m\u001b[37m┬\u001b[0m\u001b[37m────────────────────\u001b[0m\u001b[37m┐\u001b[0m\n",
      "\u001b[37m│\u001b[0m \u001b[1;37mSipDispatchRuleID\u001b[0m \u001b[37m│\u001b[0m \u001b[1;37mName\u001b[0m               \u001b[37m│\u001b[0m \u001b[1;37mSipTrunks\u001b[0m       \u001b[37m│\u001b[0m \u001b[1;37mType\u001b[0m                \u001b[37m│\u001b[0m \u001b[1;37mRoomName\u001b[0m                \u001b[37m│\u001b[0m \u001b[1;37mPin\u001b[0m \u001b[37m│\u001b[0m \u001b[1;37mAttributes\u001b[0m \u001b[37m│\u001b[0m \u001b[1;37mAgents\u001b[0m             \u001b[37m│\u001b[0m\n",
      "\u001b[37m├\u001b[0m\u001b[37m───────────────────\u001b[0m\u001b[37m┼\u001b[0m\u001b[37m────────────────────\u001b[0m\u001b[37m┼\u001b[0m\u001b[37m─────────────────\u001b[0m\u001b[37m┼\u001b[0m\u001b[37m─────────────────────\u001b[0m\u001b[37m┼\u001b[0m\u001b[37m─────────────────────────\u001b[0m\u001b[37m┼\u001b[0m\u001b[37m─────\u001b[0m\u001b[37m┼\u001b[0m\u001b[37m────────────\u001b[0m\u001b[37m┼\u001b[0m\u001b[37m────────────────────\u001b[0m\u001b[37m┤\u001b[0m\n",
      "\u001b[37m│\u001b[0m \u001b[37mSDR_oaSgs8kNPgW4\u001b[0m  \u001b[37m│\u001b[0m \u001b[37mMKIA dispatch-rule\u001b[0m \u001b[37m│\u001b[0m \u001b[37mST_m5BaQzYpwjj4\u001b[0m \u001b[37m│\u001b[0m \u001b[37mIndividual (Caller)\u001b[0m \u001b[37m│\u001b[0m \u001b[37mcall-_<caller>_<random>\u001b[0m \u001b[37m│\u001b[0m \u001b[37m\u001b[0m    \u001b[37m│\u001b[0m \u001b[37mmap[]\u001b[0m      \u001b[37m│\u001b[0m \u001b[37mmy-telephony-agent\u001b[0m \u001b[37m│\u001b[0m\n",
      "\u001b[37m└\u001b[0m\u001b[37m───────────────────\u001b[0m\u001b[37m┴\u001b[0m\u001b[37m────────────────────\u001b[0m\u001b[37m┴\u001b[0m\u001b[37m─────────────────\u001b[0m\u001b[37m┴\u001b[0m\u001b[37m─────────────────────\u001b[0m\u001b[37m┴\u001b[0m\u001b[37m─────────────────────────\u001b[0m\u001b[37m┴\u001b[0m\u001b[37m─────\u001b[0m\u001b[37m┴\u001b[0m\u001b[37m────────────\u001b[0m\u001b[37m┴\u001b[0m\u001b[37m────────────────────\u001b[0m\u001b[37m┘\u001b[0m\n"
     ]
    }
   ],
   "source": [
    "# List all Dispatch Rules\n",
    "!lk sip dispatch list"
   ]
  },
  {
   "cell_type": "code",
   "execution_count": 10,
   "id": "4335212c",
   "metadata": {},
   "outputs": [
    {
     "name": "stdout",
     "output_type": "stream",
     "text": [
      "\u001b]11;?\u001b\\\u001b[6nUsing default project [\u001b[36mmkia\u001b[0m]\n",
      "no ID specified, use flag or set it in JSON\n"
     ]
    }
   ],
   "source": [
    "# Update a Dispatch Rule\n",
    "!lk sip dispatch update dispatch-rule.json"
   ]
  },
  {
   "cell_type": "code",
   "execution_count": 12,
   "id": "10fd110f",
   "metadata": {},
   "outputs": [
    {
     "name": "stdout",
     "output_type": "stream",
     "text": [
      "\u001b]11;?\u001b\\\u001b[6nUsing default project [\u001b[36mmkia\u001b[0m]\n",
      "SIPDispatchRuleID: SDR_xzDhRUDNJdin\n"
     ]
    }
   ],
   "source": [
    "# Delete a Dispatch Rule\n",
    "!lk sip dispatch delete SDR_xzDhRUDNJdin"
   ]
  },
  {
   "cell_type": "markdown",
   "id": "4771fc0a",
   "metadata": {},
   "source": [
    "# Manage LK Project"
   ]
  },
  {
   "cell_type": "code",
   "execution_count": 1,
   "id": "8ff89f31",
   "metadata": {},
   "outputs": [
    {
     "name": "stdout",
     "output_type": "stream",
     "text": [
      "\u001b]11;?\u001b\\\u001b[6nSaved CLI config to /Users/jairo/.livekit/cli-config.yaml\n",
      "Default project set to [\u001b[36mmkia\u001b[0m]\n"
     ]
    }
   ],
   "source": [
    "!lk project set-default mkia"
   ]
  },
  {
   "cell_type": "markdown",
   "id": "c4035a1b",
   "metadata": {},
   "source": [
    "# MISC Terminal Commands"
   ]
  },
  {
   "cell_type": "code",
   "execution_count": null,
   "id": "36ee4c9c",
   "metadata": {},
   "outputs": [],
   "source": [
    "# Run the server\n",
    "!python3 agent.py dev"
   ]
  }
 ],
 "metadata": {
  "kernelspec": {
   "display_name": ".venv",
   "language": "python",
   "name": "python3"
  },
  "language_info": {
   "codemirror_mode": {
    "name": "ipython",
    "version": 3
   },
   "file_extension": ".py",
   "mimetype": "text/x-python",
   "name": "python",
   "nbconvert_exporter": "python",
   "pygments_lexer": "ipython3",
   "version": "3.13.3"
  }
 },
 "nbformat": 4,
 "nbformat_minor": 5
}
